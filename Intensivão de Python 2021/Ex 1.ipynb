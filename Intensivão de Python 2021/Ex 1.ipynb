{
 "cells": [
  {
   "cell_type": "markdown",
   "metadata": {},
   "source": [
    "# Automação de Sistemas e Processos com Python\n",
    "\n",
    "### Desafio:\n",
    "\n",
    "Todos os dias, o nosso sistema atualiza as vendas do dia anterior.\n",
    "O seu trabalho diário, como analista, é enviar um e-mail para a diretoria, assim que começar a trabalhar, com o faturamento e a quantidade de produtos vendidos no dia anterior\n",
    "\n",
    "E-mail da diretoria: seugmail+diretoria@gmail.com<br>\n",
    "Local onde o sistema disponibiliza as vendas do dia anterior: https://drive.google.com/drive/folders/149xknr9JvrlEnhNWO49zPcw0PW5icxga?usp=sharing\n",
    "\n",
    "Para resolver isso, vamos usar o pyautogui, uma biblioteca de automação de comandos do mouse e do teclado e o pyperclip, para lidar com texto da área de transferência. Além disso, como esse arquivo deve ser executado de uma IDE como o Visual Studio Code na máquina do usuário, o arquivo será executado de um navegador virtual a ser executado pela biblioteca Selenium, bastante usada para testes automatizados e webscraping."
   ]
  },
  {
   "cell_type": "code",
   "execution_count": 12,
   "metadata": {},
   "outputs": [],
   "source": [
    "import pyautogui\n",
    "import pyperclip\n",
    "from time import sleep\n",
    "from selenium import webdriver"
   ]
  },
  {
   "cell_type": "markdown",
   "metadata": {},
   "source": [
    "Após importar as bibliotecas, será executado um script para baixar os dados, que neste caso estão numa tabela de Excel."
   ]
  },
  {
   "cell_type": "code",
   "execution_count": 13,
   "metadata": {},
   "outputs": [
    {
     "name": "stderr",
     "output_type": "stream",
     "text": [
      "C:\\Users\\familia\\AppData\\Local\\Temp/ipykernel_15756/2115830752.py:11: DeprecationWarning: executable_path has been deprecated, please pass in a Service object\n",
      "  driver = webdriver.Chrome(executable_path=driver_path, options=option)\n"
     ]
    }
   ],
   "source": [
    "# Alterar esses dois caminhos de acordo com o caminho absoututo do webdriver do seu navegador padrão e do navegador padrão ...\n",
    "# ... respectivamente. Aqui, utilizando o navegador Brave. Pode-se habilitar as opções de navegação anônima.\n",
    "driver_path = \"E:/Users/skylucacius/Desktop/stuff/TI/Python/Tutoriais-Python/Intensivão de Python 2021/chromedriver.exe\"\n",
    "browser_path = \"C:/Program Files/BraveSoftware/Brave-Browser/Application/brave.exe\"\n",
    "\n",
    "# Como estamos simulando clicks na tela pelo pyautogui, não poderemos usar a opção headless do navegador.\n",
    "option = webdriver.ChromeOptions()\n",
    "option.binary_location = browser_path\n",
    "# option.add_argument(\"--incognito\")\n",
    "\n",
    "driver = webdriver.Chrome(executable_path=driver_path, options=option)\n",
    "#Passo 1: entrar no sistema da empresa\n",
    "pyautogui.PAUSE = 1\n",
    "pyautogui.hotkey(\"ctrl\", \"t\")\n",
    "pyperclip.copy(\"https://drive.google.com/drive/folders/14oLE59U1RqyRqlBbKpsyymW-mitvbtoh\")\n",
    "pyautogui.hotkey(\"ctrl\", \"v\")\n",
    "pyautogui.press(\"enter\")\n",
    "pyautogui.hotkey(\"win\", \"up\")\n",
    "\n",
    "sleep(10)\n",
    "pyautogui.click(x=185, y=388)\n",
    "sleep(30)\n",
    "# Clicar em baixar\n",
    "pyautogui.click(x=1283, y=139, clicks=3)\n",
    "\n",
    "# Salvar e fechar o navegador\n",
    "sleep(3)\n",
    "pyautogui.click(x=511, y=444)\n",
    "pyautogui.hotkey(\"alt\", \"f4\")"
   ]
  },
  {
   "cell_type": "markdown",
   "metadata": {},
   "source": [
    "### Vamos agora ler o arquivo baixado para pegar os indicadores\n",
    "\n",
    "- Faturamento\n",
    "- Quantidade de Produtos"
   ]
  },
  {
   "cell_type": "code",
   "execution_count": 14,
   "metadata": {},
   "outputs": [],
   "source": [
    "import pandas\n",
    "\n",
    "tabela = pandas.read_excel(\"C:/Users/familia/Downloads/Vendas - Dez.xlsx\")\n",
    "# display(tabela)\n",
    "\n",
    "# Calcular o faturamento e quantidade de produtos vendidos\n",
    "faturamento = tabela['Valor Final'].sum()\n",
    "qtd_produtos = tabela['Quantidade'].sum()\n",
    "\n",
    "# display(faturamento)\n",
    "# display(qtd_produtos)"
   ]
  },
  {
   "cell_type": "markdown",
   "metadata": {},
   "source": [
    "### Vamos agora enviar um e-mail pelo gmail\n",
    "\n",
    "Obs: já devemos ter uma sessão aberta no google."
   ]
  },
  {
   "cell_type": "code",
   "execution_count": 15,
   "metadata": {},
   "outputs": [],
   "source": [
    "pyautogui.PAUSE = 0.5\n",
    "sleep(1)\n",
    "pyautogui.press(\"win\")\n",
    "pyautogui.write(\"brave\") # substituir pelo navegador a se utilizar\n",
    "pyautogui.press(\"enter\")\n",
    "sleep(1)\n",
    "pyautogui.hotkey(\"ctrl\", \"t\")\n",
    "pyperclip.copy(\"https://mail.google.com/mail/u/0/#inbox\")\n",
    "pyautogui.hotkey(\"ctrl\", \"v\")\n",
    "pyautogui.press(\"enter\")\n",
    "pyautogui.hotkey(\"win\", \"up\")\n",
    "sleep(5)\n",
    "pyautogui.click(x=97, y=169)\n",
    "sleep(4)\n",
    "pyautogui.write(\"<e-mail do usuário>\") # destinário. <<< PREENCHER\n",
    "pyautogui.press(\"tab\")\n",
    "pyautogui.press(\"tab\")\n",
    "pyautogui.write(\"E-mail para o Skylucacius\") # Assunto do e-mail\n",
    "pyautogui.press(\"tab\")\n",
    "texto = f'''\n",
    "O faturamento de ontem foi de R$ {faturamento:.2f}.\n",
    "A quantidade de produtos foi de {qtd_produtos:,}.\n",
    "\n",
    "\n",
    "'''\n",
    "pyautogui.write(texto)\n",
    "pyperclip.copy(\"Abraços,\")\n",
    "pyautogui.hotkey(\"ctrl\", \"v\")\n",
    "pyautogui.press(\"enter\")\n",
    "pyautogui.write(\"Lucas\")\n",
    "pyautogui.click(x=845, y=697)\n",
    "sleep(2)\n",
    "pyautogui.hotkey(\"alt\",\"f4\")\n",
    "pyautogui.click(x=767, y=158)"
   ]
  },
  {
   "cell_type": "markdown",
   "metadata": {},
   "source": [
    "#### Use esse código para descobrir qual a posição de um item que queira clicar\n",
    "\n",
    "- Lembre-se: a posição na sua tela é diferente da posição na minha tela"
   ]
  },
  {
   "cell_type": "code",
   "execution_count": 16,
   "metadata": {},
   "outputs": [
    {
     "data": {
      "text/plain": [
       "Point(x=767, y=158)"
      ]
     },
     "execution_count": 16,
     "metadata": {},
     "output_type": "execute_result"
    }
   ],
   "source": [
    "pyautogui.position()"
   ]
  }
 ],
 "metadata": {
  "kernelspec": {
   "display_name": "Python 3 (ipykernel)",
   "language": "python",
   "name": "python3"
  },
  "language_info": {
   "codemirror_mode": {
    "name": "ipython",
    "version": 3
   },
   "file_extension": ".py",
   "mimetype": "text/x-python",
   "name": "python",
   "nbconvert_exporter": "python",
   "pygments_lexer": "ipython3",
   "version": "3.9.5"
  }
 },
 "nbformat": 4,
 "nbformat_minor": 4
}
