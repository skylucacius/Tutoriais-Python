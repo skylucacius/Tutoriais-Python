{
 "cells": [
  {
   "cell_type": "markdown",
   "metadata": {},
   "source": [
    "# Automação de Sistemas e Processos com Python\n",
    "\n",
    "### Desafio:\n",
    "\n",
    "Todos os dias, o nosso sistema atualiza as vendas do dia anterior.\n",
    "O seu trabalho diário, como analista, é enviar um e-mail para a diretoria, assim que começar a trabalhar, com o faturamento e a quantidade de produtos vendidos no dia anterior\n",
    "\n",
    "E-mail da diretoria: seugmail+diretoria@gmail.com<br>\n",
    "Local onde o sistema disponibiliza as vendas do dia anterior: https://drive.google.com/drive/folders/149xknr9JvrlEnhNWO49zPcw0PW5icxga?usp=sharing\n",
    "\n",
    "Para resolver isso, vamos usar o pyautogui, uma biblioteca de automação de comandos do mouse e do teclado"
   ]
  },
  {
   "cell_type": "code",
   "execution_count": 27,
   "metadata": {},
   "outputs": [],
   "source": [
    "import pyautogui\n",
    "import pyperclip\n",
    "import time"
   ]
  },
  {
   "cell_type": "code",
   "execution_count": 29,
   "metadata": {},
   "outputs": [],
   "source": [
    "#Passo 1: entrar no sistema da empresa (já está na pasta correta)\n",
    "pyautogui.PAUSE = 1\n",
    "pyautogui.hotkey(\"ctrl\", \"t\")\n",
    "pyperclip.copy(\"https://drive.google.com/drive/folders/14oLE59U1RqyRqlBbKpsyymW-mitvbtoh\")\n",
    "pyautogui.hotkey(\"ctrl\", \"v\")\n",
    "pyautogui.press(\"enter\")\n",
    "\n",
    "# carregar o sistema (demorar 5 segundos)\n",
    "# time.sleep(5) # não é necessário aqui, pois o delay de 1s já tem isso embutido.\n",
    "\n",
    "# Passo 2: Abrir o arquivo"
   ]
  },
  {
   "cell_type": "markdown",
   "metadata": {},
   "source": [
    "### Vamos agora ler o arquivo baixado para pegar os indicadores\n",
    "\n",
    "- Faturamento\n",
    "- Quantidade de Produtos"
   ]
  },
  {
   "cell_type": "code",
   "execution_count": null,
   "metadata": {},
   "outputs": [],
   "source": []
  },
  {
   "cell_type": "markdown",
   "metadata": {},
   "source": [
    "### Vamos agora enviar um e-mail pelo gmail"
   ]
  },
  {
   "cell_type": "code",
   "execution_count": null,
   "metadata": {},
   "outputs": [],
   "source": []
  },
  {
   "cell_type": "markdown",
   "metadata": {},
   "source": [
    "#### Use esse código para descobrir qual a posição de um item que queira clicar\n",
    "\n",
    "- Lembre-se: a posição na sua tela é diferente da posição na minha tela"
   ]
  },
  {
   "cell_type": "code",
   "execution_count": null,
   "metadata": {},
   "outputs": [],
   "source": []
  }
 ],
 "metadata": {
  "kernelspec": {
   "display_name": "Python 3 (ipykernel)",
   "language": "python",
   "name": "python3"
  },
  "language_info": {
   "codemirror_mode": {
    "name": "ipython",
    "version": 3
   },
   "file_extension": ".py",
   "mimetype": "text/x-python",
   "name": "python",
   "nbconvert_exporter": "python",
   "pygments_lexer": "ipython3",
   "version": "3.9.5"
  }
 },
 "nbformat": 4,
 "nbformat_minor": 4
}
