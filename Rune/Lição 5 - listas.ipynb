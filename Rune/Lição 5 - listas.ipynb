{
 "cells": [
  {
   "cell_type": "code",
   "execution_count": 5,
   "metadata": {},
   "outputs": [],
   "source": [
    "lista_de_palavras = ['pai', 'empresarial', 'ciência', 'programação', 'resistência', 'ficção', 'condição', 'reverso', 'computador', 'python']\n",
    "import random\n",
    "palavra = random.choice(lista_de_palavras)\n",
    "\n",
    "# embaralhar a palavra\n",
    "palavra_embaralhada = ''.join(random.sample(palavra, len(palavra))); tentativa = ''\n",
    "# pedir ao jogador adivinhar a palavra\n",
    "while tentativa != palavra:\n",
    "    tentativa = input(f\"A palavra embaralhada é {palavra_embaralhada}. Qual palavra é ?\")\n"
   ]
  }
 ],
 "metadata": {
  "interpreter": {
   "hash": "c9118eb19d960f6f6572f4cb8637add85f00285fdb62c8093434697ff77d5443"
  },
  "kernelspec": {
   "display_name": "Python 3.9.7 64-bit ('conda2': conda)",
   "language": "python",
   "name": "python3"
  },
  "language_info": {
   "codemirror_mode": {
    "name": "ipython",
    "version": 3
   },
   "file_extension": ".py",
   "mimetype": "text/x-python",
   "name": "python",
   "nbconvert_exporter": "python",
   "pygments_lexer": "ipython3",
   "version": "3.9.7"
  },
  "orig_nbformat": 4
 },
 "nbformat": 4,
 "nbformat_minor": 2
}
