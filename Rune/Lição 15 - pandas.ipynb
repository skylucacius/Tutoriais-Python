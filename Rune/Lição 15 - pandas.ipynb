{
 "cells": [
  {
   "cell_type": "code",
   "execution_count": 1,
   "metadata": {},
   "outputs": [],
   "source": [
    "import pandas as pd"
   ]
  },
  {
   "cell_type": "code",
   "execution_count": 2,
   "metadata": {},
   "outputs": [
    {
     "data": {
      "text/html": [
       "<div>\n",
       "<style scoped>\n",
       "    .dataframe tbody tr th:only-of-type {\n",
       "        vertical-align: middle;\n",
       "    }\n",
       "\n",
       "    .dataframe tbody tr th {\n",
       "        vertical-align: top;\n",
       "    }\n",
       "\n",
       "    .dataframe thead th {\n",
       "        text-align: right;\n",
       "    }\n",
       "</style>\n",
       "<table border=\"1\" class=\"dataframe\">\n",
       "  <thead>\n",
       "    <tr style=\"text-align: right;\">\n",
       "      <th></th>\n",
       "      <th>Car</th>\n",
       "      <th>Speed</th>\n",
       "    </tr>\n",
       "    <tr>\n",
       "      <th>Date</th>\n",
       "      <th></th>\n",
       "      <th></th>\n",
       "    </tr>\n",
       "  </thead>\n",
       "  <tbody>\n",
       "    <tr>\n",
       "      <th>2021-03-15</th>\n",
       "      <td>Porsche</td>\n",
       "      <td>315</td>\n",
       "    </tr>\n",
       "    <tr>\n",
       "      <th>2021-03-30</th>\n",
       "      <td>BMW</td>\n",
       "      <td>250</td>\n",
       "    </tr>\n",
       "    <tr>\n",
       "      <th>2021-04-02</th>\n",
       "      <td>Ferrari</td>\n",
       "      <td>295</td>\n",
       "    </tr>\n",
       "    <tr>\n",
       "      <th>2021-04-10</th>\n",
       "      <td>BMW</td>\n",
       "      <td>180</td>\n",
       "    </tr>\n",
       "    <tr>\n",
       "      <th>2021-04-15</th>\n",
       "      <td>Porsche</td>\n",
       "      <td>210</td>\n",
       "    </tr>\n",
       "    <tr>\n",
       "      <th>2021-04-20</th>\n",
       "      <td>Ferrari</td>\n",
       "      <td>230</td>\n",
       "    </tr>\n",
       "    <tr>\n",
       "      <th>2021-04-23</th>\n",
       "      <td>BMW</td>\n",
       "      <td>175</td>\n",
       "    </tr>\n",
       "    <tr>\n",
       "      <th>2021-04-30</th>\n",
       "      <td>BMW</td>\n",
       "      <td>205</td>\n",
       "    </tr>\n",
       "  </tbody>\n",
       "</table>\n",
       "</div>"
      ],
      "text/plain": [
       "                Car  Speed\n",
       "Date                      \n",
       "2021-03-15  Porsche    315\n",
       "2021-03-30      BMW    250\n",
       "2021-04-02  Ferrari    295\n",
       "2021-04-10      BMW    180\n",
       "2021-04-15  Porsche    210\n",
       "2021-04-20  Ferrari    230\n",
       "2021-04-23      BMW    175\n",
       "2021-04-30      BMW    205"
      ]
     },
     "execution_count": 2,
     "metadata": {},
     "output_type": "execute_result"
    }
   ],
   "source": [
    "filename = \"files/speed_check.csv\"\n",
    "speed_check = pd.read_csv(filename, sep=\";\", infer_datetime_format=True, index_col=\"Date\", parse_dates=True)\n",
    "# speed_check.index\n",
    "speed_check\n",
    "# speed_check[\"Car\", \"Speed\"] # resulta em erro ... para exibir múltiplas colunas devemos acessar por meio de uma lista:\n",
    "speed_check[[\"Car\", \"Speed\"]]"
   ]
  },
  {
   "cell_type": "code",
   "execution_count": 3,
   "metadata": {},
   "outputs": [
    {
     "data": {
      "text/html": [
       "<div>\n",
       "<style scoped>\n",
       "    .dataframe tbody tr th:only-of-type {\n",
       "        vertical-align: middle;\n",
       "    }\n",
       "\n",
       "    .dataframe tbody tr th {\n",
       "        vertical-align: top;\n",
       "    }\n",
       "\n",
       "    .dataframe thead th {\n",
       "        text-align: right;\n",
       "    }\n",
       "</style>\n",
       "<table border=\"1\" class=\"dataframe\">\n",
       "  <thead>\n",
       "    <tr style=\"text-align: right;\">\n",
       "      <th></th>\n",
       "      <th>Car</th>\n",
       "      <th>Speed</th>\n",
       "    </tr>\n",
       "    <tr>\n",
       "      <th>Date</th>\n",
       "      <th></th>\n",
       "      <th></th>\n",
       "    </tr>\n",
       "  </thead>\n",
       "  <tbody>\n",
       "    <tr>\n",
       "      <th>2021-03-15</th>\n",
       "      <td>Porsche</td>\n",
       "      <td>315</td>\n",
       "    </tr>\n",
       "    <tr>\n",
       "      <th>2021-04-15</th>\n",
       "      <td>Porsche</td>\n",
       "      <td>210</td>\n",
       "    </tr>\n",
       "  </tbody>\n",
       "</table>\n",
       "</div>"
      ],
      "text/plain": [
       "                Car  Speed\n",
       "Date                      \n",
       "2021-03-15  Porsche    315\n",
       "2021-04-15  Porsche    210"
      ]
     },
     "execution_count": 3,
     "metadata": {},
     "output_type": "execute_result"
    }
   ],
   "source": [
    "# speed_check\n",
    "speed_check[speed_check[\"Car\"] == \"Porsche\"]"
   ]
  },
  {
   "cell_type": "code",
   "execution_count": 4,
   "metadata": {},
   "outputs": [
    {
     "data": {
      "text/plain": [
       "Date\n",
       "2021-03-15     True\n",
       "2021-03-30    False\n",
       "2021-04-02    False\n",
       "2021-04-10    False\n",
       "2021-04-15     True\n",
       "2021-04-20    False\n",
       "2021-04-23    False\n",
       "2021-04-30    False\n",
       "Name: Car, dtype: bool"
      ]
     },
     "execution_count": 4,
     "metadata": {},
     "output_type": "execute_result"
    }
   ],
   "source": [
    "speed_check[\"Car\"] == \"Porsche\""
   ]
  },
  {
   "cell_type": "code",
   "execution_count": 5,
   "metadata": {},
   "outputs": [
    {
     "data": {
      "text/html": [
       "<div>\n",
       "<style scoped>\n",
       "    .dataframe tbody tr th:only-of-type {\n",
       "        vertical-align: middle;\n",
       "    }\n",
       "\n",
       "    .dataframe tbody tr th {\n",
       "        vertical-align: top;\n",
       "    }\n",
       "\n",
       "    .dataframe thead th {\n",
       "        text-align: right;\n",
       "    }\n",
       "</style>\n",
       "<table border=\"1\" class=\"dataframe\">\n",
       "  <thead>\n",
       "    <tr style=\"text-align: right;\">\n",
       "      <th></th>\n",
       "      <th>Speed</th>\n",
       "    </tr>\n",
       "    <tr>\n",
       "      <th>Car</th>\n",
       "      <th></th>\n",
       "    </tr>\n",
       "  </thead>\n",
       "  <tbody>\n",
       "    <tr>\n",
       "      <th>BMW</th>\n",
       "      <td>810</td>\n",
       "    </tr>\n",
       "    <tr>\n",
       "      <th>Ferrari</th>\n",
       "      <td>525</td>\n",
       "    </tr>\n",
       "    <tr>\n",
       "      <th>Porsche</th>\n",
       "      <td>525</td>\n",
       "    </tr>\n",
       "  </tbody>\n",
       "</table>\n",
       "</div>"
      ],
      "text/plain": [
       "         Speed\n",
       "Car           \n",
       "BMW        810\n",
       "Ferrari    525\n",
       "Porsche    525"
      ]
     },
     "execution_count": 5,
     "metadata": {},
     "output_type": "execute_result"
    }
   ],
   "source": [
    "speed_check.groupby(\"Car\").sum()"
   ]
  },
  {
   "cell_type": "code",
   "execution_count": 6,
   "metadata": {},
   "outputs": [
    {
     "data": {
      "text/html": [
       "<div>\n",
       "<style scoped>\n",
       "    .dataframe tbody tr th:only-of-type {\n",
       "        vertical-align: middle;\n",
       "    }\n",
       "\n",
       "    .dataframe tbody tr th {\n",
       "        vertical-align: top;\n",
       "    }\n",
       "\n",
       "    .dataframe thead th {\n",
       "        text-align: right;\n",
       "    }\n",
       "</style>\n",
       "<table border=\"1\" class=\"dataframe\">\n",
       "  <thead>\n",
       "    <tr style=\"text-align: right;\">\n",
       "      <th></th>\n",
       "      <th>Speed</th>\n",
       "    </tr>\n",
       "    <tr>\n",
       "      <th>Car</th>\n",
       "      <th></th>\n",
       "    </tr>\n",
       "  </thead>\n",
       "  <tbody>\n",
       "    <tr>\n",
       "      <th>BMW</th>\n",
       "      <td>202.5</td>\n",
       "    </tr>\n",
       "    <tr>\n",
       "      <th>Ferrari</th>\n",
       "      <td>262.5</td>\n",
       "    </tr>\n",
       "    <tr>\n",
       "      <th>Porsche</th>\n",
       "      <td>262.5</td>\n",
       "    </tr>\n",
       "  </tbody>\n",
       "</table>\n",
       "</div>"
      ],
      "text/plain": [
       "         Speed\n",
       "Car           \n",
       "BMW      202.5\n",
       "Ferrari  262.5\n",
       "Porsche  262.5"
      ]
     },
     "execution_count": 6,
     "metadata": {},
     "output_type": "execute_result"
    }
   ],
   "source": [
    "speed_check.groupby(\"Car\").mean()"
   ]
  },
  {
   "cell_type": "code",
   "execution_count": 7,
   "metadata": {},
   "outputs": [
    {
     "data": {
      "text/html": [
       "<div>\n",
       "<style scoped>\n",
       "    .dataframe tbody tr th:only-of-type {\n",
       "        vertical-align: middle;\n",
       "    }\n",
       "\n",
       "    .dataframe tbody tr th {\n",
       "        vertical-align: top;\n",
       "    }\n",
       "\n",
       "    .dataframe thead th {\n",
       "        text-align: right;\n",
       "    }\n",
       "</style>\n",
       "<table border=\"1\" class=\"dataframe\">\n",
       "  <thead>\n",
       "    <tr style=\"text-align: right;\">\n",
       "      <th></th>\n",
       "      <th>Car</th>\n",
       "      <th>Speed</th>\n",
       "    </tr>\n",
       "    <tr>\n",
       "      <th>Date</th>\n",
       "      <th></th>\n",
       "      <th></th>\n",
       "    </tr>\n",
       "  </thead>\n",
       "  <tbody>\n",
       "    <tr>\n",
       "      <th>2021-03-15</th>\n",
       "      <td>Porsche</td>\n",
       "      <td>315</td>\n",
       "    </tr>\n",
       "    <tr>\n",
       "      <th>2021-03-30</th>\n",
       "      <td>BMW</td>\n",
       "      <td>250</td>\n",
       "    </tr>\n",
       "    <tr>\n",
       "      <th>2021-04-02</th>\n",
       "      <td>Ferrari</td>\n",
       "      <td>295</td>\n",
       "    </tr>\n",
       "    <tr>\n",
       "      <th>2021-04-10</th>\n",
       "      <td>BMW</td>\n",
       "      <td>180</td>\n",
       "    </tr>\n",
       "    <tr>\n",
       "      <th>2021-04-15</th>\n",
       "      <td>Porsche</td>\n",
       "      <td>210</td>\n",
       "    </tr>\n",
       "    <tr>\n",
       "      <th>2021-04-20</th>\n",
       "      <td>Ferrari</td>\n",
       "      <td>230</td>\n",
       "    </tr>\n",
       "    <tr>\n",
       "      <th>2021-04-23</th>\n",
       "      <td>BMW</td>\n",
       "      <td>175</td>\n",
       "    </tr>\n",
       "    <tr>\n",
       "      <th>2021-04-30</th>\n",
       "      <td>BMW</td>\n",
       "      <td>205</td>\n",
       "    </tr>\n",
       "  </tbody>\n",
       "</table>\n",
       "</div>"
      ],
      "text/plain": [
       "                Car  Speed\n",
       "Date                      \n",
       "2021-03-15  Porsche    315\n",
       "2021-03-30      BMW    250\n",
       "2021-04-02  Ferrari    295\n",
       "2021-04-10      BMW    180\n",
       "2021-04-15  Porsche    210\n",
       "2021-04-20  Ferrari    230\n",
       "2021-04-23      BMW    175\n",
       "2021-04-30      BMW    205"
      ]
     },
     "execution_count": 7,
     "metadata": {},
     "output_type": "execute_result"
    }
   ],
   "source": [
    "speed_check"
   ]
  },
  {
   "cell_type": "code",
   "execution_count": 8,
   "metadata": {},
   "outputs": [],
   "source": [
    "import locale\n",
    "locale.setlocale(locale.LC_ALL, 'French')\n",
    "\n",
    "mensal = speed_check.groupby(pd.Grouper(freq='M')).mean()\n",
    "mensal.index = mensal.index.month_name()\n",
    "# mensal\n"
   ]
  },
  {
   "cell_type": "code",
   "execution_count": 9,
   "metadata": {},
   "outputs": [],
   "source": [
    "# # speed_check.to_excel(\"SpeedCheck.xlsx\")\n",
    "# writer = pd.ExcelWriter(\"SpeedCheck.xlsx\", engine=\"xlsxwriter\")\n",
    "# speed_check.groupby(\"Car\").mean().to_excel(writer, sheet_name=\"Cars\")\n",
    "# mensal.to_excel(writer, sheet_name=\"Mensal\")\n",
    "\n",
    "# workbook = writer.book\n",
    "# worksheet = writer.sheets['Cars']\n",
    "# chart = workbook.add_chart({'type': 'column'})\n",
    "# # Configure the series of the chart from the dataframe data.\n",
    "# chart.add_series({\n",
    "#     'name': 'Cars',\n",
    "#     'categories': '=Cars!$A$2:$A$4',\n",
    "#     'values': '=Cars!$B$2:$B$4'}\n",
    "#     )\n",
    "# # Insert the chart into the worksheet.\n",
    "# worksheet.insert_chart('D2', chart)\n",
    "\n",
    "# writer.close()\n"
   ]
  },
  {
   "cell_type": "code",
   "execution_count": 28,
   "metadata": {},
   "outputs": [],
   "source": [
    "# Ler os dados de um csv para posteriormente criar um relatório em excel com gráficos\n",
    "import pandas as pd\n",
    "filename = 'files/SalesData.csv'\n",
    "df = pd.read_csv(filename, sep=';', parse_dates=True, index_col='Date')\n",
    "\n",
    "# Agrupar os dados por vendedor e por mês\n",
    "df_by_sales_rep = df.groupby(\"Sales rep\").sum()\n",
    "df_monthly = df.groupby(pd.Grouper(freq=\"M\")).sum()\n",
    "df_monthly.index = df_monthly.index.month_name()\n",
    "\n",
    "#Exportar os dados para Excel\n",
    "writer = pd.ExcelWriter(\"Relatório.xlsx\"); workbook  = writer.book\n",
    "df_by_sales_rep.to_excel(writer, \"vendedor\"); df_monthly.to_excel(writer, \"por mês\")\n",
    "worksheet_vendedor = writer.sheets['vendedor']; worksheet_mensal = writer.sheets[\"por mês\"]\n",
    "\n",
    "# criar um gráfico de barras para cada folha\n",
    "chart_vendedor = workbook.add_chart({'type': 'column'}); chart_mensal = workbook.add_chart({'type': 'column'})\n",
    "chart_vendedor.add_series({'values': '=vendedor!$B$2:$B$10', 'categories': '=vendedor!$A$2:$A$10'})\n",
    "chart_mensal.add_series({'values': \"='por mês'!$B$2:$B$13\", 'categories': \"='por mês'!$A$2:$A$13\"})\n",
    "chart_vendedor.set_title({'name': \"vendas por vendedor\"}); chart_mensal.set_title({'name': \"vendas por mês\"})\n",
    "chart_vendedor.set_legend({'none': True}); chart_mensal.set_legend({'none': True})\n",
    "worksheet_vendedor.insert_chart('F2', chart_vendedor); worksheet_mensal.insert_chart('F2', chart_mensal)\n",
    "\n",
    "writer.close()"
   ]
  }
 ],
 "metadata": {
  "interpreter": {
   "hash": "570f75909aa44b0e54a6133c5f972bb510cb4df9c762850801e3edce060b4d62"
  },
  "kernelspec": {
   "display_name": "Python 3.10.0 64-bit ('sklearn-env': conda)",
   "language": "python",
   "name": "python3"
  },
  "language_info": {
   "codemirror_mode": {
    "name": "ipython",
    "version": 3
   },
   "file_extension": ".py",
   "mimetype": "text/x-python",
   "name": "python",
   "nbconvert_exporter": "python",
   "pygments_lexer": "ipython3",
   "version": "3.10.0"
  },
  "orig_nbformat": 4
 },
 "nbformat": 4,
 "nbformat_minor": 2
}
