{
 "cells": [
  {
   "cell_type": "code",
   "execution_count": null,
   "metadata": {},
   "outputs": [],
   "source": [
    "import pandas as pd"
   ]
  },
  {
   "cell_type": "code",
   "execution_count": null,
   "metadata": {},
   "outputs": [],
   "source": [
    "filename = \"files/speed_check.csv\"\n",
    "speed_check = pd.read_csv(filename, sep=\";\", infer_datetime_format=True, index_col=\"Date\", parse_dates=True)\n",
    "# speed_check.index\n",
    "speed_check\n",
    "# speed_check[\"Car\", \"Speed\"] # resulta em erro ... para exibir múltiplas colunas devemos acessar por meio de uma lista:\n",
    "speed_check[[\"Car\", \"Speed\"]]"
   ]
  },
  {
   "cell_type": "code",
   "execution_count": null,
   "metadata": {},
   "outputs": [],
   "source": [
    "# speed_check\n",
    "speed_check[speed_check[\"Car\"] == \"Porsche\"]"
   ]
  },
  {
   "cell_type": "code",
   "execution_count": null,
   "metadata": {},
   "outputs": [],
   "source": [
    "speed_check[\"Car\"] == \"Porsche\""
   ]
  },
  {
   "cell_type": "code",
   "execution_count": null,
   "metadata": {},
   "outputs": [],
   "source": [
    "speed_check.groupby(\"Car\").sum()"
   ]
  },
  {
   "cell_type": "code",
   "execution_count": null,
   "metadata": {},
   "outputs": [],
   "source": [
    "speed_check.groupby(\"Car\").mean()"
   ]
  },
  {
   "cell_type": "code",
   "execution_count": null,
   "metadata": {},
   "outputs": [],
   "source": [
    "speed_check"
   ]
  },
  {
   "cell_type": "code",
   "execution_count": null,
   "metadata": {},
   "outputs": [],
   "source": [
    "import locale\n",
    "locale.setlocale(locale.LC_ALL, 'French')\n",
    "\n",
    "mensal = speed_check.groupby(pd.Grouper(freq='M')).mean()\n",
    "mensal.index = mensal.index.month_name()\n",
    "# mensal\n"
   ]
  },
  {
   "cell_type": "code",
   "execution_count": null,
   "metadata": {},
   "outputs": [],
   "source": [
    "# # speed_check.to_excel(\"SpeedCheck.xlsx\")\n",
    "# writer = pd.ExcelWriter(\"SpeedCheck.xlsx\", engine=\"xlsxwriter\")\n",
    "# speed_check.groupby(\"Car\").mean().to_excel(writer, sheet_name=\"Cars\")\n",
    "# mensal.to_excel(writer, sheet_name=\"Mensal\")\n",
    "\n",
    "# workbook = writer.book\n",
    "# worksheet = writer.sheets['Cars']\n",
    "# chart = workbook.add_chart({'type': 'column'})\n",
    "# # Configure the series of the chart from the dataframe data.\n",
    "# chart.add_series({\n",
    "#     'name': 'Cars',\n",
    "#     'categories': '=Cars!$A$2:$A$4',\n",
    "#     'values': '=Cars!$B$2:$B$4'}\n",
    "#     )\n",
    "# # Insert the chart into the worksheet.\n",
    "# worksheet.insert_chart('D2', chart)\n",
    "\n",
    "# writer.close()\n"
   ]
  },
  {
   "cell_type": "code",
   "execution_count": null,
   "metadata": {},
   "outputs": [],
   "source": [
    "# Ler os dados de um csv para posteriormente criar um relatório em excel com gráficos\n",
    "import pandas as pd\n",
    "filename = 'files/SalesData.csv'\n",
    "df = pd.read_csv(filename, sep=';', parse_dates=True, index_col='Date')\n",
    "\n",
    "# Agrupar os dados por vendedor e por mês\n",
    "df_by_sales_rep = df.groupby(\"Sales rep\").sum()\n",
    "df_monthly = df.groupby(pd.Grouper(freq=\"M\")).sum()\n",
    "df_monthly.index = df_monthly.index.month_name()\n",
    "\n",
    "#Exportar os dados para Excel\n",
    "writer = pd.ExcelWriter(\"Relatório.xlsx\"); workbook  = writer.book\n",
    "df_by_sales_rep.to_excel(writer, \"vendedor\"); df_monthly.to_excel(writer, \"por mês\")\n",
    "worksheet_vendedor = writer.sheets['vendedor']; worksheet_mensal = writer.sheets[\"por mês\"]\n",
    "\n",
    "# criar um gráfico de barras para cada folha\n",
    "chart_vendedor = workbook.add_chart({'type': 'column'}); chart_mensal = workbook.add_chart({'type': 'column'})\n",
    "chart_vendedor.add_series({'values': '=vendedor!$B$2:$B$10', 'categories': '=vendedor!$A$2:$A$10'})\n",
    "chart_mensal.add_series({'values': \"='por mês'!$B$2:$B$13\", 'categories': \"='por mês'!$A$2:$A$13\"})\n",
    "chart_vendedor.set_title({'name': \"vendas por vendedor\"}); chart_mensal.set_title({'name': \"vendas por mês\"})\n",
    "chart_vendedor.set_legend({'none': True}); chart_mensal.set_legend({'none': True})\n",
    "worksheet_vendedor.insert_chart('F2', chart_vendedor); worksheet_mensal.insert_chart('F2', chart_mensal)\n",
    "\n",
    "writer.close()"
   ]
  }
 ],
 "metadata": {
  "kernelspec": {
   "display_name": "Python 3.9.13 ('.venv': venv)",
   "language": "python",
   "name": "python3"
  },
  "language_info": {
   "codemirror_mode": {
    "name": "ipython",
    "version": 3
   },
   "file_extension": ".py",
   "mimetype": "text/x-python",
   "name": "python",
   "nbconvert_exporter": "python",
   "pygments_lexer": "ipython3",
   "version": "3.9.13"
  },
  "orig_nbformat": 4,
  "vscode": {
   "interpreter": {
    "hash": "6a0ffeee1815c3f95f74238463e6183bf0a4f2a738e213d1e2ad861e9b4757a7"
   }
  }
 },
 "nbformat": 4,
 "nbformat_minor": 2
}
