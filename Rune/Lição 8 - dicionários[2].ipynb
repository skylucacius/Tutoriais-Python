{
 "cells": [
  {
   "cell_type": "code",
   "execution_count": 14,
   "metadata": {},
   "outputs": [
    {
     "name": "stdout",
     "output_type": "stream",
     "text": [
      "{'a': 7, 's': 7, 'd': 6, 'ç': 1, 'k': 1, 'l': 1, 'f': 1, ' ': 3}\n"
     ]
    }
   ],
   "source": [
    "# Description of Frequency Count\n",
    "\n",
    "# Prompt the user for a line of text\n",
    "resposta = input(\"Digite alguma coisa.\")\n",
    "# Use a dictionary to make frequency count of the letters.\n",
    "dicionario = {}\n",
    "\n",
    "# Minha solução\n",
    "for c in resposta:\n",
    "    if c in dicionario:\n",
    "        dicionario[c] += 1\n",
    "    else:\n",
    "        dicionario[c] = 1\n",
    "\n",
    "# Solução do tutor\n",
    "\n",
    "\n",
    "\n",
    "# Print the frequencies\n",
    "print(dicionario)"
   ]
  }
 ],
 "metadata": {
  "interpreter": {
   "hash": "c9118eb19d960f6f6572f4cb8637add85f00285fdb62c8093434697ff77d5443"
  },
  "kernelspec": {
   "display_name": "Python 3.9.7 64-bit ('conda2': conda)",
   "language": "python",
   "name": "python3"
  },
  "language_info": {
   "codemirror_mode": {
    "name": "ipython",
    "version": 3
   },
   "file_extension": ".py",
   "mimetype": "text/x-python",
   "name": "python",
   "nbconvert_exporter": "python",
   "pygments_lexer": "ipython3",
   "version": "3.9.7"
  },
  "orig_nbformat": 4
 },
 "nbformat": 4,
 "nbformat_minor": 2
}
