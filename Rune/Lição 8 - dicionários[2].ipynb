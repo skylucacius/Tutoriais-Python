{
 "cells": [
  {
   "cell_type": "code",
   "execution_count": 23,
   "metadata": {},
   "outputs": [
    {
     "name": "stdout",
     "output_type": "stream",
     "text": [
      "a: 5\n",
      "s: 6\n",
      "d: 4\n",
      " : 2\n",
      "f: 2\n",
      "g: 1\n"
     ]
    }
   ],
   "source": [
    "# Description of Frequency Count\n",
    "\n",
    "# Prompt the user for a line of text\n",
    "resposta = input(\"Digite alguma coisa.\")\n",
    "# Use a dictionary to make frequency count of the letters.\n",
    "dicionario = {}\n",
    "for c in resposta:\n",
    "# Minha solução\n",
    "    # if c in dicionario:\n",
    "    #     dicionario[c] += 1\n",
    "    # else:\n",
    "    #     dicionario[c] = 1\n",
    "\n",
    "# Solução do tutor. Mais elevante ao meu ver, então manterei essa.\n",
    "    dicionario[c] = dicionario.get(c, 0) + 1\n",
    "\n",
    "# Print the frequencies\n",
    "\n",
    "# print(dicionario, sep=\"\\n\") # o separador não funciona para dicionários. Portanto, teremos que iterar nele\n",
    "for key, value in dicionario.items():\n",
    "    print(key + \": \" + str(value))\n"
   ]
  }
 ],
 "metadata": {
  "interpreter": {
   "hash": "c9118eb19d960f6f6572f4cb8637add85f00285fdb62c8093434697ff77d5443"
  },
  "kernelspec": {
   "display_name": "Python 3.9.7 64-bit ('conda2': conda)",
   "language": "python",
   "name": "python3"
  },
  "language_info": {
   "codemirror_mode": {
    "name": "ipython",
    "version": 3
   },
   "file_extension": ".py",
   "mimetype": "text/x-python",
   "name": "python",
   "nbconvert_exporter": "python",
   "pygments_lexer": "ipython3",
   "version": "3.9.7"
  },
  "orig_nbformat": 4
 },
 "nbformat": 4,
 "nbformat_minor": 2
}
