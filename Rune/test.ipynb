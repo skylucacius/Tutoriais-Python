{
 "cells": [
  {
   "cell_type": "code",
   "execution_count": 8,
   "metadata": {},
   "outputs": [
    {
     "name": "stdout",
     "output_type": "stream",
     "text": [
      "00 02 04 06\n"
     ]
    }
   ],
   "source": [
    "valores = [\n",
    "  ['00', '01', '02', '03', '04', '05', '06', '07'],\n",
    "  ['10', '11', '12', '13', '14', '15', '16', '17'],\n",
    "  ['20', '21', '22', '23', '24', '25', '26', '27'],\n",
    "  ['30', '31', '32', '33', '34', '35', '36', '37'],\n",
    "]\n",
    "\n",
    "x,y,z,w = [valores[0][j*2] for j in range(0,4)]\n",
    "print(x,y,z,w)"
   ]
  }
 ],
 "metadata": {
  "interpreter": {
   "hash": "570f75909aa44b0e54a6133c5f972bb510cb4df9c762850801e3edce060b4d62"
  },
  "kernelspec": {
   "display_name": "Python 3.10.0 64-bit ('sklearn-env': conda)",
   "language": "python",
   "name": "python3"
  },
  "language_info": {
   "codemirror_mode": {
    "name": "ipython",
    "version": 3
   },
   "file_extension": ".py",
   "mimetype": "text/x-python",
   "name": "python",
   "nbconvert_exporter": "python",
   "pygments_lexer": "ipython3",
   "version": "3.10.0"
  },
  "orig_nbformat": 4
 },
 "nbformat": 4,
 "nbformat_minor": 2
}
