{
 "cells": [
  {
   "cell_type": "code",
   "execution_count": 12,
   "metadata": {},
   "outputs": [],
   "source": [
    "# Usar uma dicionário como a fonte de dados de país-capital\n",
    "cc = {\n",
    "'Argentina':'Buenos Aires'\n",
    ",'Bolívia':'La Paz'\n",
    ",'Brasil':'Brasília'\n",
    ",'Chile':'Santiago'\n",
    ",'Colômbia':'Bogotá'\n",
    ",'Equador':'Quito'\n",
    ",'Guiana':'Georgetown'\n",
    ",'Guiana Francesa':'Caiena'\n",
    ",'Paraguai':'Assunção'\n",
    ",'Peru':'Lima'\n",
    ",'Suriname':'Paramaribo'\n",
    ",'Uruguai':'Montevidéu'\n",
    ",'Venezuela':'Caracas'\n",
    "}\n",
    "\n"
   ]
  },
  {
   "cell_type": "code",
   "execution_count": 19,
   "metadata": {},
   "outputs": [
    {
     "name": "stdout",
     "output_type": "stream",
     "text": [
      "A resposta 1 está correta. A capital de Colômbia é Bogotá.\n",
      "A resposta 2 está errada. A capital de Uruguai é Montevidéu e não montevideu.\n",
      "A resposta 3 está correta. A capital de Guiana Francesa é Caiena.\n",
      "\n"
     ]
    }
   ],
   "source": [
    "# Perguntar ao usuário 3 vezes por uma capital num país\n",
    "\n",
    "#tentativa 1\n",
    "import random\n",
    "# pais1, capital1 = random.choice(list(cc.items()))\n",
    "# pais2, capital2 = random.choice(list(cc.items()))\n",
    "# pais3, capital3 = random.choice(list(cc.items()))\n",
    "\n",
    "# resposta1 = input(f\"Qual a capital de {pais1} ?\")\n",
    "# resposta2 = input(f\"Qual a capital de {pais2} ?\")\n",
    "# resposta3 = input(f\"Qual a capital de {pais3} ?\")\n",
    "\n",
    "# saida1 = \"A resposta 1 está \" + (\"correta\" if resposta1 == capital1 else \"errada\") + \".\"\n",
    "# saida2 = \"A resposta 2 está \" + (\"correta\" if resposta2 == capital2 else \"errada\") + \".\"\n",
    "# saida3 = \"A resposta 3 está \" + (\"correta\" if resposta3 == capital3 else \"errada\") + \".\"\n",
    "\n",
    "# print(saida1,saida2,saida3, sep=\"\\n\")\n",
    "\n",
    "\n",
    "# Refatoração da tentativa 1\n",
    "def avalia(escolha, pais, capital, numero): # avalia se a escolha é igual a capital\n",
    "    saida = f\"A resposta {numero} está \" + (\"correta\" if (escolha.lower()) == capital.lower() else \"errada\") + \".\"\n",
    "    saida += \" A capital de {} é {}\".format(pais,capital)\n",
    "    saida += \".\\n\" if escolha.lower() == capital.lower() else \" e não {}.\\n\".format(escolha)\n",
    "\n",
    "    return saida\n",
    "\n",
    "\n",
    "def pais_capital_aleatorio(): # retorna uma tupla (pais,capital)\n",
    "    return random.choice(list(cc.items()))\n",
    "\n",
    "def pergunta(pais): # gera a pergunta do jogo\n",
    "    return \"Qual é a capital de \" + pais + \" ?\"\n",
    "\n",
    "saida = \"\"\n",
    "tentativas = 0\n",
    "max_tentativas = 3\n",
    "\n",
    "def jogo(i): # roda o jogo uma vez, ou seja, escolhe um país/capital aleatório, pergunta, recebe a resposta do jogador\n",
    "# e alimenta a string global de resposta.\n",
    "    global tentativas; tentativas += 1\n",
    "    global saida\n",
    "    pais_capital = pais_capital_aleatorio(); pais = pais_capital[0]; capital = pais_capital[1]\n",
    "\n",
    "    escolha = input(pergunta(pais))\n",
    "    saida += avalia(escolha, pais, capital, i)\n",
    "aa\n",
    "i = 1\n",
    "while i <= max_tentativas:\n",
    "    jogo(i);i += 1\n",
    "print(saida)"
   ]
  }
 ],
 "metadata": {
  "interpreter": {
   "hash": "c9118eb19d960f6f6572f4cb8637add85f00285fdb62c8093434697ff77d5443"
  },
  "kernelspec": {
   "display_name": "Python 3.9.7 64-bit ('conda2': conda)",
   "language": "python",
   "name": "python3"
  },
  "language_info": {
   "codemirror_mode": {
    "name": "ipython",
    "version": 3
   },
   "file_extension": ".py",
   "mimetype": "text/x-python",
   "name": "python",
   "nbconvert_exporter": "python",
   "pygments_lexer": "ipython3",
   "version": "3.9.7"
  },
  "orig_nbformat": 4
 },
 "nbformat": 4,
 "nbformat_minor": 2
}
