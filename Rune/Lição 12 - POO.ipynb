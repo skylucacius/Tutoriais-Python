{
 "cells": [
  {
   "cell_type": "code",
   "execution_count": 97,
   "metadata": {},
   "outputs": [],
   "source": [
    "import random\n",
    "\n",
    "class Card:\n",
    "    numeros = [\"2\", \"3\", \"4\", \"5\", \"6\", \"7\", \"8\", \"9\", \"10\", \"J\", \"Q\", \"K\", \"A\"]\n",
    "    naipes = ['\\u2666', '\\u2665', '\\u2663', '\\u2660'] # ou ['♦', '♥', '♣', '♠']\n",
    "\n",
    "    def __init__(self,numero,naipe):\n",
    "        self.naipe = naipe\n",
    "        self.numero = numero\n",
    "\n",
    "    def __str__(self):\n",
    "        return f\"{Card.numeros[self.numero]}{Card.naipes[self.naipe]}\"\n",
    "\n",
    "    def __lt__(self, outro):\n",
    "        if self.numero == outro.numero:\n",
    "            return self.naipe < outro.naipe\n",
    "        else:\n",
    "            return self.numero < outro.numero\n",
    "\n",
    "class Deck:\n",
    "    def __init__(self):\n",
    "        self.deck = []\n",
    "        for numero in range(13):\n",
    "            for naipe in range(4):\n",
    "                self.deck.append(Card(numero, naipe))\n",
    "    \n",
    "    def __len__(self):\n",
    "        return len(self.deck)\n",
    "    \n",
    "    def add_card(self, card):\n",
    "        return self.deck.append(card)\n",
    "    \n",
    "    def pop_card(self):\n",
    "        return self.deck.pop()\n",
    "\n",
    "    def shuffle(self):\n",
    "        return random.shuffle(self.deck)\n",
    "\n",
    "class Hand(Deck):\n",
    "    def __init__(self, label):\n",
    "        self.deck = []\n",
    "        self.label = label\n",
    "        self.win_count = 0\n",
    "    \n",
    "    def __str__(self):\n",
    "        return self.label + ': ' + ' '.join([str(card) for card in self.deck])\n",
    "        # return f\"You have {len(self.deck)} cards in your hand({self.label}): {[str(card) for card in self.deck]}. You've won {self.win_count} times.\"\n",
    "    \n",
    "    def get_label(self):\n",
    "        return self.label\n",
    "    \n",
    "    def get_win_count(self):\n",
    "        return self.win_count\n",
    "\n",
    "    def round_winner(self):\n",
    "        self.win_count += 1\n",
    "        return\n",
    "\n"
   ]
  },
  {
   "cell_type": "code",
   "execution_count": 98,
   "metadata": {},
   "outputs": [
    {
     "name": "stdout",
     "output_type": "stream",
     "text": [
      "You have 3 cards in your hand(Jogador 1): ['J♦', '6♦', '7♠']. You've won 0 times.\n"
     ]
    }
   ],
   "source": [
    "deck = Deck()\n",
    "deck.shuffle()\n",
    "hand = Hand(\"Jogador 1\")\n",
    "\n",
    "hand.add_card(deck.pop_card())\n",
    "hand.add_card(deck.pop_card())\n",
    "hand.add_card(deck.pop_card())\n",
    "\n",
    "print(hand)"
   ]
  },
  {
   "cell_type": "code",
   "execution_count": null,
   "metadata": {},
   "outputs": [],
   "source": []
  }
 ],
 "metadata": {
  "interpreter": {
   "hash": "c9118eb19d960f6f6572f4cb8637add85f00285fdb62c8093434697ff77d5443"
  },
  "kernelspec": {
   "display_name": "Python 3.9.7 64-bit ('conda2': conda)",
   "language": "python",
   "name": "python3"
  },
  "language_info": {
   "codemirror_mode": {
    "name": "ipython",
    "version": 3
   },
   "file_extension": ".py",
   "mimetype": "text/x-python",
   "name": "python",
   "nbconvert_exporter": "python",
   "pygments_lexer": "ipython3",
   "version": "3.9.7"
  },
  "orig_nbformat": 4
 },
 "nbformat": 4,
 "nbformat_minor": 2
}
