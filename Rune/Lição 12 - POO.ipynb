{
 "cells": [
  {
   "cell_type": "code",
   "execution_count": 18,
   "metadata": {},
   "outputs": [],
   "source": [
    "import random\n",
    "\n",
    "class Card:\n",
    "    numeros = [\"2\", \"3\", \"4\", \"5\", \"6\", \"7\", \"8\", \"9\", \"10\", \"J\", \"Q\", \"K\", \"A\"]\n",
    "    naipes = ['\\u2666', '\\u2665', '\\u2663', '\\u2660'] # ou ['♦', '♥', '♣', '♠']\n",
    "\n",
    "    def __init__(self,numero,naipe):\n",
    "        self.naipe = naipe\n",
    "        self.numero = numero\n",
    "\n",
    "    def __str__(self):\n",
    "        return f\"{Card.numeros[self.numero]}{Card.naipes[self.naipe]}\"\n",
    "\n",
    "    def __lt__(self, outro):\n",
    "        if self.numero == outro.numero:\n",
    "            return self.naipe < outro.naipe\n",
    "        else:\n",
    "            return self.numero < outro.numero\n",
    "\n",
    "class Deck:\n",
    "    def __init__(self):\n",
    "        self.deck = []\n",
    "        for numero in range(13):\n",
    "            for naipe in range(4):\n",
    "                self.deck.append(Card(numero, naipe))\n",
    "    \n",
    "    def __len__(self):\n",
    "        return len(self.deck)\n",
    "    \n",
    "    def add_card(self, card):\n",
    "        return self.deck.append(card)\n",
    "    \n",
    "    def pop_card(self):\n",
    "        return self.deck.pop()\n",
    "\n"
   ]
  },
  {
   "cell_type": "code",
   "execution_count": 50,
   "metadata": {},
   "outputs": [
    {
     "name": "stdout",
     "output_type": "stream",
     "text": [
      "A♠\n",
      "A♥ A♣\n",
      "A♣\n",
      "A♦ A♥\n",
      "A♥\n",
      "K♠ A♦\n"
     ]
    }
   ],
   "source": [
    "deck = Deck()\n",
    "# for card in deck.deck:\n",
    "#     print(card)\n",
    "\n",
    "print(deck.pop_card())\n",
    "print(deck.deck[-2], deck.deck[-1])\n",
    "\n",
    "print(deck.pop_card())\n",
    "print(deck.deck[-2], deck.deck[-1])\n",
    "\n",
    "print(deck.pop_card())\n",
    "print(deck.deck[-2], deck.deck[-1])\n",
    "\n"
   ]
  }
 ],
 "metadata": {
  "interpreter": {
   "hash": "c9118eb19d960f6f6572f4cb8637add85f00285fdb62c8093434697ff77d5443"
  },
  "kernelspec": {
   "display_name": "Python 3.9.7 64-bit ('conda2': conda)",
   "language": "python",
   "name": "python3"
  },
  "language_info": {
   "codemirror_mode": {
    "name": "ipython",
    "version": 3
   },
   "file_extension": ".py",
   "mimetype": "text/x-python",
   "name": "python",
   "nbconvert_exporter": "python",
   "pygments_lexer": "ipython3",
   "version": "3.9.7"
  },
  "orig_nbformat": 4
 },
 "nbformat": 4,
 "nbformat_minor": 2
}
