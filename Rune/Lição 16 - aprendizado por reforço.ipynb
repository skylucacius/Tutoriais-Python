{
 "cells": [
  {
   "cell_type": "markdown",
   "metadata": {},
   "source": [
    "Iremos implementar um tabuleiro (campo) com as seguintes especificações:\n",
    "> tamanho do tabuleiro, que pode ser 10 x 10, por exemplo;\n",
    "> posição onde iremos pegar uma caixa;\n",
    "> posição onde iremos soltar a caixa;\n",
    "> posição que começaremos no campo;\n",
    "> Se temos com a caixa;"
   ]
  },
  {
   "cell_type": "code",
   "execution_count": null,
   "metadata": {},
   "outputs": [],
   "source": [
    "class Campo:\n",
    "    def __init__(self, tamanho, posicao_pegar_caixa, posicao_soltar_caixa, posicao_inicial):\n",
    "        self.tamanho = tamanho\n",
    "        self.posicao_pegar_caixa = posicao_pegar_caixa # posição (x,y) onde iremos pegar a caixa\n",
    "        self.posicao_soltar_caixa = posicao_soltar_caixa # posição (x,y) onde iremos soltar a caixa\n",
    "        self.posicao = posicao_inicial\n",
    "    \n",
    "        self.caixa_no_carro = False\n",
    "    \n",
    "    def agir(self, acao):\n",
    "        (x,y) = self.posicao\n",
    "\n",
    "        if acao == 0: # ir para o sul\n",
    "            if y == 0:\n",
    "                return - 10, False # não anda e pune\n",
    "            else:\n",
    "                self.posicao = (x,y-1) # desce 1 casa\n",
    "                return -1, False # mesmo andando numa posição válida, não podemos recompensar o simples fato de andar, senão poderia resultar em andar infinitamente\n",
    "        elif acao == 1: # ir para o norte\n",
    "            if y == self.tamanho:\n",
    "                return - 10, False # não anda e pune\n",
    "            else:\n",
    "                self.posicao = (x,y+1) # sobe 1 casa\n",
    "                return -1, False\n",
    "        elif acao == 2: # ir para o leste\n",
    "            if x == self.tamanho - 1:\n",
    "                return - 10, False # não anda e pune\n",
    "            else:\n",
    "                self.posicao = (x+1,y) # 1 casa para direita\n",
    "                return -1, False\n",
    "        elif acao == 3: # ir para o oeste\n",
    "            if x == 0:\n",
    "                return - 10, False # não anda e pune\n",
    "            else:\n",
    "                self.posicao = (x-1,y) # sobe 1 casa\n",
    "                return -1, False\n",
    "        elif acao == 4: # pegar a caixa\n",
    "            if self.caixa_no_carro:\n",
    "                return -10, False\n",
    "            elif self.pegar_caixa\n",
    "        elif acao == 5: # soltar a caixa\n",
    "            pass\n",
    "\n"
   ]
  }
 ],
 "metadata": {
  "kernelspec": {
   "display_name": "Python 3.9.13 ('.venv': venv)",
   "language": "python",
   "name": "python3"
  },
  "language_info": {
   "name": "python",
   "version": "3.9.13"
  },
  "orig_nbformat": 4,
  "vscode": {
   "interpreter": {
    "hash": "6a0ffeee1815c3f95f74238463e6183bf0a4f2a738e213d1e2ad861e9b4757a7"
   }
  }
 },
 "nbformat": 4,
 "nbformat_minor": 2
}
