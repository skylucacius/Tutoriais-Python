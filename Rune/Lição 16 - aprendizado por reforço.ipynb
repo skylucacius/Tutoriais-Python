{
 "cells": [
  {
   "cell_type": "markdown",
   "metadata": {},
   "source": [
    "# Configuração inicial\n",
    "Iremos implementar um tabuleiro (campo) com as seguintes especificações:\n",
    "> tamanho do tabuleiro, que pode ser 10 x 10, por exemplo;\n",
    "> posição onde iremos pegar uma caixa;\n",
    "> posição onde iremos soltar a caixa;\n",
    "> posição que começaremos no campo;\n",
    "> Se temos com a caixa;\n",
    "\n",
    "# Regras\n",
    "1. Iremos continuar o jogo até que ele não termine. Ou seja, além da recompensa/punição, devemos retornar também False para cada ação. Pois True indica que o jogo terminou, o que acontecerá apenas quando estivermos com a caixa e soltarmos ela na posição especificada;\n",
    "2. Podemos soltar a caixa em posição inválida.\n",
    "\n",
    "# Algoritmo\n",
    "> Se andar para uma posição inválida, punir em -10;\n",
    "> Se andar para uma posição válida, punir em -1 (não podemos recompensar isso pois isso incentivaria andar infinitamente pelo campo);\n",
    "> Se tentar pegar a caixa e já estivermos com ela na mão, punir em -10. Senão (não temos a caixa), se a caixa não estiver em nossa posição e quisermos pegá-la, punir em -10. Caso contrário, recompensar em 20 (porque achou a caixa);\n",
    "> Se tentar soltar a caixa e não estivermos com ela na mão, punir em -10. Senão (temos a caixa), se não for o lugar de soltar a caixa e quisermos soltá-la, punir em -10. Caso contrário, recompensar em 20 e terminar o jogo."
   ]
  },
  {
   "cell_type": "code",
   "execution_count": 1,
   "metadata": {},
   "outputs": [],
   "source": [
    "class Campo:\n",
    "    def __init__(self, tamanho, posicao_pegar_caixa, posicao_soltar_caixa, posicao_inicial):\n",
    "        self.tamanho = tamanho # tamanho do campo bidimensional\n",
    "        self.posicao_caixa = posicao_pegar_caixa # posição onde está a caixa. Está inicialmente onde devemos pegá-la\n",
    "        self.posicao_soltar_caixa = posicao_soltar_caixa # posição onde devemos soltar a caixa\n",
    "        self.posicao = posicao_inicial # posição onde estamos. Começamos na posição inicial\n",
    "    \n",
    "        self.caixa_no_carro = False # não começamos com a caixa\n",
    "    \n",
    "    def agir(self, acao):\n",
    "        (x,y) = self.posicao\n",
    "\n",
    "        if acao == 0: # ir para o sul\n",
    "            if y == 0:\n",
    "                return - 10, False # não anda e pune\n",
    "            else:\n",
    "                self.posicao = (x,y-1) # desce 1 casa\n",
    "                return -1, False\n",
    "        elif acao == 1: # ir para o norte\n",
    "            if y == self.tamanho:\n",
    "                return - 10, False # não anda e pune\n",
    "            else:\n",
    "                self.posicao = (x,y+1) # sobe 1 casa\n",
    "                return -1, False\n",
    "        elif acao == 2: # ir para o leste\n",
    "            if x == self.tamanho - 1:\n",
    "                return - 10, False # não anda e pune\n",
    "            else:\n",
    "                self.posicao = (x+1,y) # 1 casa para direita\n",
    "                return -1, False\n",
    "        elif acao == 3: # ir para o oeste\n",
    "            if x == 0:\n",
    "                return - 10, False # não anda e pune\n",
    "            else:\n",
    "                self.posicao = (x-1,y) # 1 casa para esquerda\n",
    "                return -1, False\n",
    "        elif acao == 4: # pegar a caixa\n",
    "            if self.caixa_no_carro:\n",
    "                return -10, False\n",
    "            elif self.posicao_pegar_caixa != self.posicao: # na aula, ao invés de \"self.posicao\" é usado \"(x,y)\"\n",
    "                return -10, False\n",
    "            else:\n",
    "                self.caixa_no_carro = True\n",
    "                return 20, False\n",
    "        elif acao == 5: # soltar a caixa\n",
    "            if not self.caixa_no_carro:\n",
    "                return -10, False\n",
    "            elif self.posicao_soltar_caixa != self.posicao: # se soltarmos a caixa e não estivermos na posição correta de soltá-la\n",
    "                self.posicao_caixa = self.posicao\n",
    "                self.caixa_no_carro = False\n",
    "                return -10, False\n",
    "            else:\n",
    "                return 20, True\n"
   ]
  },
  {
   "cell_type": "code",
   "execution_count": null,
   "metadata": {},
   "outputs": [],
   "source": []
  }
 ],
 "metadata": {
  "kernelspec": {
   "display_name": "Python 3.9.13 ('.venv': venv)",
   "language": "python",
   "name": "python3"
  },
  "language_info": {
   "codemirror_mode": {
    "name": "ipython",
    "version": 3
   },
   "file_extension": ".py",
   "mimetype": "text/x-python",
   "name": "python",
   "nbconvert_exporter": "python",
   "pygments_lexer": "ipython3",
   "version": "3.9.13"
  },
  "orig_nbformat": 4,
  "vscode": {
   "interpreter": {
    "hash": "6a0ffeee1815c3f95f74238463e6183bf0a4f2a738e213d1e2ad861e9b4757a7"
   }
  }
 },
 "nbformat": 4,
 "nbformat_minor": 2
}
