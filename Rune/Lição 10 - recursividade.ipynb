{
 "cells": [
  {
   "cell_type": "code",
   "execution_count": 2,
   "metadata": {},
   "outputs": [
    {
     "data": {
      "text/plain": [
       "21"
      ]
     },
     "execution_count": 2,
     "metadata": {},
     "output_type": "execute_result"
    }
   ],
   "source": [
    "#  def count(n):\n",
    "#      return n + count(n - 1) if n > 0 else 0\n",
    "\n",
    "# count(6)\n",
    "\n",
    "# def fib(n):\n",
    "#     return fib(n-1) + fib(n-2) if n > 2 else 1 if n == 2 else 1\n",
    "\n",
    "# fib(5) # não usar valores muito altos, senão dará erro."
   ]
  },
  {
   "cell_type": "code",
   "execution_count": 9,
   "metadata": {},
   "outputs": [
    {
     "name": "stdout",
     "output_type": "stream",
     "text": [
      "[[3, 2, 1], [], []]\n",
      "[[3, 2], [1], []]\n",
      "[[3], [1], [2]]\n",
      "[[], [1], [2, 3]]\n",
      "Movimento inválido! A posição 0 está vazia.\n",
      "[[], [1], [2, 3]]\n",
      "Movimento inválido! A posição 0 está vazia.\n",
      "[[], [1], [2, 3]]\n",
      "Movimento inválido! Insira posições entre 0 e 2.\n",
      "[[], [1], [2, 3]]\n"
     ]
    }
   ],
   "source": [
    "torres = [[3,2,1], [], []] # a torre mais a direita, estará acima na i-ésima torre de Hanoi, sendo i 0, 1 ou 2.\n",
    "\n",
    "# print(torres)\n",
    "# move(torres, 0, 1)\n",
    "# print(torres)\n",
    "# move(torres, 0, 2)\n",
    "# print(torres)\n",
    "# move(torres, 0, 2)\n",
    "# print(torres)\n",
    "# move(torres, 0, 2)\n",
    "# print(torres)\n",
    "# move(torres, 0, 0)\n",
    "# print(torres)\n",
    "# move(torres, 4, 0)\n",
    "# print(torres)\n",
    "\n",
    "def move(torres,i, j): # j é a posição para qual iremos mover o disco superior da torre i. Sendo i,j: [1,2,3]; i <> j\n",
    "    if i not in [0,1,2] or j not in [0,1,2]:\n",
    "        print(\"Movimento inválido! Insira posições entre 0 e 2.\")\n",
    "        return\n",
    "    if torres[i] == []:\n",
    "        print(f\"Movimento inválido! A posição {i} está vazia.\")\n",
    "        return\n",
    "    if i == j:\n",
    "        print(\"Movimento inválido! Posições iguais.\")\n",
    "        return\n",
    "\n",
    "    disco = torres[i][len(torres[i]) - 1]\n",
    "    torres[i].pop()\n",
    "    torres[j].append(disco)\n",
    "\n",
    "def resolve_torre_de_hanoi(torres, n, torre_inicio, torre_destino, torre_auxiliar):\n",
    "    # n <= 0. Trataremos o caso em que n == 0\n",
    "    if n <= 0:\n",
    "        print(torres)\n",
    "        return\n",
    "\n",
    "    for _ in range(n-1):\n",
    "        resolve_torre_de_hanoi(torres, n - 1, torre_inicio, torre_destino, torre_auxiliar)\n",
    "        \n",
    "    move(torres, torre_inicio, torre_destino)\n",
    "    \n",
    "\n",
    "\n",
    "\n",
    "\n",
    "\n",
    "\n",
    "\n",
    "\n",
    "\n",
    "\n",
    "\n",
    "\n"
   ]
  }
 ],
 "metadata": {
  "interpreter": {
   "hash": "c9118eb19d960f6f6572f4cb8637add85f00285fdb62c8093434697ff77d5443"
  },
  "kernelspec": {
   "display_name": "Python 3.9.7 64-bit ('conda2': conda)",
   "language": "python",
   "name": "python3"
  },
  "language_info": {
   "codemirror_mode": {
    "name": "ipython",
    "version": 3
   },
   "file_extension": ".py",
   "mimetype": "text/x-python",
   "name": "python",
   "nbconvert_exporter": "python",
   "pygments_lexer": "ipython3",
   "version": "3.9.7"
  },
  "orig_nbformat": 4
 },
 "nbformat": 4,
 "nbformat_minor": 2
}
