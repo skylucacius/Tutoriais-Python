{
 "cells": [
  {
   "cell_type": "code",
   "execution_count": 1,
   "metadata": {},
   "outputs": [
    {
     "data": {
      "text/plain": [
       "{0: 0, 1: 1, 2: 4, 3: 9, 4: 16, 5: 25, 6: 36, 7: 49, 8: 64, 9: 81}"
      ]
     },
     "execution_count": 1,
     "metadata": {},
     "output_type": "execute_result"
    }
   ],
   "source": [
    "# Dictionary compreheension\n",
    "# {i: i*i for i in range(10)}"
   ]
  },
  {
   "cell_type": "code",
   "execution_count": 29,
   "metadata": {},
   "outputs": [
    {
     "data": {
      "text/plain": [
       "'YOU ARE AWESOME'"
      ]
     },
     "execution_count": 29,
     "metadata": {},
     "output_type": "execute_result"
    }
   ],
   "source": [
    "def encrypt_char(char,key):\n",
    "    return chr( ord('A') + (ord(char) - ord('A') + key ) % 26 )\n",
    "\n",
    "def decrypt_char(char,key):\n",
    "    return encrypt_char(char, 26 - key)\n",
    "\n",
    "# \"A\" -> \"K\"\n",
    "# print(encrypt_char(\"A\", 10))\n",
    "# \"K\" -> \"A\"\n",
    "# print(decrypt_char(\"K\", 10))\n",
    "\n",
    "# Uma inconveniência da Cifra de César é pode encriptar mensagens com letras em caixa alta apenas.\n",
    "message = \"you are awesome\"\n",
    "key = 10\n",
    "\n",
    "cipher = ''.join([encrypt_char(c,key) if c not in ' ,.' else c for c in message.upper()])\n",
    "\n",
    "decipher = ''.join([decrypt_char(c,key) if c not in ' ,.' else c for c in cipher])\n",
    "\n",
    "\n",
    "decipher"
   ]
  },
  {
   "cell_type": "code",
   "execution_count": 37,
   "metadata": {},
   "outputs": [
    {
     "data": {
      "text/plain": [
       "{'s': 3, ' ': 2, ']': 1, 'd': 3, 'a': 4}"
      ]
     },
     "execution_count": 37,
     "metadata": {},
     "output_type": "execute_result"
    }
   ],
   "source": [
    "mensagem = input(\"Digite alguma coisa\")\n",
    "\n",
    "# a solução que usamos antes com um laço simples não funciona ... dicionario não está definido dentro de si mesmo.\n",
    "# dicionario = {c: dicionario.get(c,0) + 1 for c in mensagem}\n",
    "\n",
    "# então, usaremos dict comprehension para resolver\n",
    "dicionario = {c: mensagem.count(c) for c in set(mensagem)} # set é opcional, e foi usado para reduzir as iterações repetidas (desnecessárias)\n",
    "dicionario"
   ]
  }
 ],
 "metadata": {
  "interpreter": {
   "hash": "c9118eb19d960f6f6572f4cb8637add85f00285fdb62c8093434697ff77d5443"
  },
  "kernelspec": {
   "display_name": "Python 3.9.7 64-bit ('conda2': conda)",
   "language": "python",
   "name": "python3"
  },
  "language_info": {
   "codemirror_mode": {
    "name": "ipython",
    "version": 3
   },
   "file_extension": ".py",
   "mimetype": "text/x-python",
   "name": "python",
   "nbconvert_exporter": "python",
   "pygments_lexer": "ipython3",
   "version": "3.9.7"
  },
  "orig_nbformat": 4
 },
 "nbformat": 4,
 "nbformat_minor": 2
}
