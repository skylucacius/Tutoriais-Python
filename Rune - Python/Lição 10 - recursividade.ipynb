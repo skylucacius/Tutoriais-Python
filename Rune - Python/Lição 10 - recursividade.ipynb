{
 "cells": [
  {
   "cell_type": "code",
   "execution_count": 2,
   "metadata": {},
   "outputs": [
    {
     "data": {
      "text/plain": [
       "21"
      ]
     },
     "execution_count": 2,
     "metadata": {},
     "output_type": "execute_result"
    }
   ],
   "source": [
    "#  def count(n):\n",
    "#      return n + count(n - 1) if n > 0 else 0\n",
    "\n",
    "# count(6)\n",
    "\n",
    "# def fib(n):\n",
    "#     return fib(n-1) + fib(n-2) if n > 2 else 1 if n == 2 else 1\n",
    "\n",
    "# fib(5) \n",
    " \n",
    "# Obs: não usar valores muito altos, senão dará erro (estouro de pilha)."
   ]
  },
  {
   "cell_type": "code",
   "execution_count": 10,
   "metadata": {},
   "outputs": [
    {
     "name": "stdout",
     "output_type": "stream",
     "text": [
      "[[3, 2], [], [1]]\n",
      "[[3], [2], [1]]\n",
      "[[3], [2, 1], []]\n",
      "[[], [2, 1], [3]]\n",
      "[[1], [2], [3]]\n",
      "[[1], [], [3, 2]]\n",
      "[[], [], [3, 2, 1]]\n"
     ]
    }
   ],
   "source": [
    "torres = [[3,2,1], [], []] # a torre mais a direita, estará acima na i-ésima torre de Hanoi, sendo i 0, 1 ou 2.\n",
    "\n",
    "def move(torres,i, j): # j é a posição para qual iremos mover o disco superior da torre i. Sendo i,j: [1,2,3]; i <> j\n",
    "    if i not in [0,1,2] or j not in [0,1,2]:\n",
    "        print(\"Movimento inválido! Insira posições entre 0 e 2.\")\n",
    "        return\n",
    "    if torres[i] == []:\n",
    "        print(f\"Movimento inválido! A posição {i} está vazia.\")\n",
    "        return\n",
    "    if i == j:\n",
    "        print(\"Movimento inválido! Posições iguais.\")\n",
    "        return\n",
    "\n",
    "    disco = torres[i][len(torres[i]) - 1]\n",
    "    torres[i].pop()\n",
    "    torres[j].append(disco)\n",
    "\n",
    "def p():\n",
    "    print(torres)\n",
    "\n",
    "def resolve_torre_de_hanoi(torres, n, torre_inicio, torre_destino, torre_auxiliar):\n",
    "    if n <= 0: # caso de escape da recursão\n",
    "        return\n",
    "\n",
    "    # move n-1 discos da torre de início para a torre auxiliar\n",
    "    resolve_torre_de_hanoi(torres, n - 1, torre_inicio, torre_auxiliar, torre_destino)\n",
    "\n",
    "    # move o disco que sobrou da torre de início para torre de destino\n",
    "    move(torres, torre_inicio, torre_destino)\n",
    "    p()\n",
    "\n",
    "    # move n-1 discos da torre auxiliar para a torre de destino\n",
    "    resolve_torre_de_hanoi(torres, n - 1, torre_auxiliar, torre_destino, torre_inicio)\n",
    "\n",
    "\n",
    "resolve_torre_de_hanoi(torres, 3, 0, 2, 1)"
   ]
  }
 ],
 "metadata": {
  "interpreter": {
   "hash": "c9118eb19d960f6f6572f4cb8637add85f00285fdb62c8093434697ff77d5443"
  },
  "kernelspec": {
   "display_name": "Python 3.9.7 64-bit ('conda2': conda)",
   "language": "python",
   "name": "python3"
  },
  "language_info": {
   "codemirror_mode": {
    "name": "ipython",
    "version": 3
   },
   "file_extension": ".py",
   "mimetype": "text/x-python",
   "name": "python",
   "nbconvert_exporter": "python",
   "pygments_lexer": "ipython3",
   "version": "3.9.7"
  },
  "orig_nbformat": 4
 },
 "nbformat": 4,
 "nbformat_minor": 2
}
