{
 "cells": [
  {
   "cell_type": "code",
   "execution_count": 6,
   "metadata": {},
   "outputs": [],
   "source": [
    "import csv\n",
    "filename = \"files/cars.csv\"\n",
    "with open(filename, \"r\") as f:\n",
    "    csv_reader = csv.DictReader(f)\n",
    "    carros = list(csv_reader)\n"
   ]
  },
  {
   "cell_type": "code",
   "execution_count": 61,
   "metadata": {},
   "outputs": [
    {
     "data": {
      "text/plain": [
       "{'potencia': 5259, 'carros': 10}"
      ]
     },
     "execution_count": 61,
     "metadata": {},
     "output_type": "execute_result"
    }
   ],
   "source": [
    "\n",
    "marcas = []; i=0; marca_hp = {}\n",
    "for carro in carros:\n",
    "    marca = carro['Make']; hp = int(carro['Horsepower'])\n",
    "\n",
    "    if marca not in marcas:\n",
    "        marcas.append(marca)\n",
    "        marca_hp[marca] = { \"potencia\": hp, \"carros\": 1 }\n",
    "    else:\n",
    "        marca_hp[marca] = { \"potencia\": marca_hp[marca][\"potencia\"] + hp, \"carros\": marca_hp[marca][\"carros\"] + 1 }\n",
    "\n",
    "\n",
    "marca_hp[\"AMG\"]\n",
    "# daqui em diante é semelhante a aula ..."
   ]
  },
  {
   "cell_type": "code",
   "execution_count": 84,
   "metadata": {},
   "outputs": [
    {
     "name": "stdout",
     "output_type": "stream",
     "text": [
      "[('Scion', 156.6153846153846), ('MINI', 160.96774193548387), ('Kia', 179.74074074074073), ('Suzuki', 185.13725490196077), ('Mazda', 187.14880952380952), ('Honda', 188.225), ('Volkswagen', 192.49612403100775), ('Mitsubishi', 195.35294117647058), ('Subaru', 205.2095238095238), ('Mercury', 205.21428571428572), ('Hyundai', 207.3031914893617), ('Jeep', 207.60504201680672), ('Saab', 222.54237288135593), ('Lotus', 231.0), ('BMW Motorrad', 233.6206896551724), ('Chrysler', 246.7), ('Volvo', 247.24271844660194), ('Buick', 249.88732394366198), ('Toyota', 253.44923076923078), ('Acura', 262.8484848484849), ('Nissan', 269.2142857142857), ('Ford', 275.4112769485904), ('Chrysler Group LLC', 279.1666666666667), ('Mercedes', 280.21875), ('GMC', 285.9755434782609), ('Lincoln', 290.5581395348837), ('Chevrolet', 294.8083067092652), ('Audi', 300.18390804597703), ('Lexus', 301.61538461538464), ('Dodge', 303.93461538461537), ('Grand Cherokee', 320.0625), ('Infiniti', 322.1294117647059), ('Cadillac', 340.98), ('BMW', 347.18045112781954), ('Land Rover', 373.85714285714283), ('Porsche', 376.54901960784315), ('Mercedes-Benz', 388.42857142857144), ('Maserati', 422.5), ('Jaguar', 448.75), ('Aston Martin', 470.0), ('Rolls-Royce', 475.0), ('Mercedes-AMG', 494.8333333333333), ('AMG', 525.9), ('Ferrari', 540.0), ('Lamborghini', 554.8), ('Bentley', 577.4444444444445), ('Maybach', 599.8461538461538)]\n"
     ]
    }
   ],
   "source": [
    "# Mas a resolução anterior está ineficiente, nos basearemos no algoritmo que é a solução apresentada na aula.\n",
    "\n",
    "# Um dict que contém listas em que cada uma contém as potências dos carros de uma marca\n",
    "potencias_marca = {}\n",
    "\n",
    "for carro in carros:\n",
    "    marca = carro['Make']; potencia = int(carro['Horsepower'])\n",
    "    potencias_marca[marca] = potencias_marca.get(marca, []) + [potencia]\n",
    "\n",
    "potencia_media_marca = {}\n",
    "for marca,potencias in potencias_marca.items():\n",
    "    potencia_media_marca[marca] = sum(potencias) / len(potencias)\n",
    "\n",
    "# Para sortear pela chave (ordem alfabética), pode-se usar uma das duas soluções a seguir:\n",
    "# from collections import OrderedDict\n",
    "# print(OrderedDict(sorted(potencia_media_marca.items())))\n",
    "\n",
    "# for key in sorted(potencia_media_marca):\n",
    "#     print((key, potencia_media_marca[key]), end=\" \")\n",
    "\n",
    "# Para sortear em order crescente (ou decrescente pelos valores)\n",
    "print(sorted(potencia_media_marca.items(), key = lambda kv: (kv[1], kv[0])))\n"
   ]
  }
 ],
 "metadata": {
  "interpreter": {
   "hash": "c9118eb19d960f6f6572f4cb8637add85f00285fdb62c8093434697ff77d5443"
  },
  "kernelspec": {
   "display_name": "Python 3.9.7 64-bit ('conda2': conda)",
   "language": "python",
   "name": "python3"
  },
  "language_info": {
   "codemirror_mode": {
    "name": "ipython",
    "version": 3
   },
   "file_extension": ".py",
   "mimetype": "text/x-python",
   "name": "python",
   "nbconvert_exporter": "python",
   "pygments_lexer": "ipython3",
   "version": "3.9.7"
  },
  "orig_nbformat": 4
 },
 "nbformat": 4,
 "nbformat_minor": 2
}
